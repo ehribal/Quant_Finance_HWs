{
 "cells": [
  {
   "cell_type": "markdown",
   "id": "systematic-federal",
   "metadata": {},
   "source": [
    "# Homework 3"
   ]
  },
  {
   "cell_type": "code",
   "execution_count": 1,
   "id": "signal-remedy",
   "metadata": {
    "slideshow": {
     "slide_type": "slide"
    }
   },
   "outputs": [],
   "source": [
    "import matplotlib.pyplot as plt\n",
    "import numpy as np\n",
    "import pandas as pd\n",
    "import pandas_datareader as pdr\n",
    "\n",
    "# import statsmodels functions\n",
    "import statsmodels\n",
    "import statsmodels.api as sm\n",
    "from statsmodels.tsa import stattools as st\n",
    "from statsmodels.tsa.ar_model import AutoReg, ar_select_order\n",
    "from statsmodels.tsa.arima.model import ARIMA"
   ]
  },
  {
   "cell_type": "code",
   "execution_count": 2,
   "id": "integrated-independence",
   "metadata": {},
   "outputs": [],
   "source": [
    "# This code will supress certain unnecessary warnings from the statsmodels package\n",
    "import warnings\n",
    "from statsmodels.tools.sm_exceptions import ValueWarning\n",
    "warnings.filterwarnings('ignore', module='statsmodels', category=FutureWarning)\n",
    "warnings.filterwarnings('ignore', module='statsmodels', category=ValueWarning)"
   ]
  },
  {
   "cell_type": "markdown",
   "id": "indirect-exemption",
   "metadata": {},
   "source": [
    "Using `pandas_datareader` to download daily prices for the S&P 500 index from Yahoo!, beginning in 1980.\n",
    "\n",
    "**Important**: Before proceeding, multiply the return by 100 to put it in percent terms. This is important for the algorithms that estimate the ARMA models you'll be using."
   ]
  },
  {
   "cell_type": "code",
   "execution_count": 6,
   "id": "middle-exercise",
   "metadata": {},
   "outputs": [
    {
     "data": {
      "text/html": [
       "<div>\n",
       "<style scoped>\n",
       "    .dataframe tbody tr th:only-of-type {\n",
       "        vertical-align: middle;\n",
       "    }\n",
       "\n",
       "    .dataframe tbody tr th {\n",
       "        vertical-align: top;\n",
       "    }\n",
       "\n",
       "    .dataframe thead th {\n",
       "        text-align: right;\n",
       "    }\n",
       "</style>\n",
       "<table border=\"1\" class=\"dataframe\">\n",
       "  <thead>\n",
       "    <tr style=\"text-align: right;\">\n",
       "      <th></th>\n",
       "      <th>High</th>\n",
       "      <th>Low</th>\n",
       "      <th>Open</th>\n",
       "      <th>Close</th>\n",
       "      <th>Volume</th>\n",
       "      <th>Adj Close</th>\n",
       "      <th>daily_return</th>\n",
       "    </tr>\n",
       "    <tr>\n",
       "      <th>Date</th>\n",
       "      <th></th>\n",
       "      <th></th>\n",
       "      <th></th>\n",
       "      <th></th>\n",
       "      <th></th>\n",
       "      <th></th>\n",
       "      <th></th>\n",
       "    </tr>\n",
       "  </thead>\n",
       "  <tbody>\n",
       "    <tr>\n",
       "      <th>1980-01-02</th>\n",
       "      <td>108.430000</td>\n",
       "      <td>105.290001</td>\n",
       "      <td>0.000000</td>\n",
       "      <td>105.760002</td>\n",
       "      <td>40610000</td>\n",
       "      <td>105.760002</td>\n",
       "      <td>NaN</td>\n",
       "    </tr>\n",
       "    <tr>\n",
       "      <th>1980-01-03</th>\n",
       "      <td>106.080002</td>\n",
       "      <td>103.260002</td>\n",
       "      <td>0.000000</td>\n",
       "      <td>105.220001</td>\n",
       "      <td>50480000</td>\n",
       "      <td>105.220001</td>\n",
       "      <td>-0.510591</td>\n",
       "    </tr>\n",
       "    <tr>\n",
       "      <th>1980-01-04</th>\n",
       "      <td>107.080002</td>\n",
       "      <td>105.089996</td>\n",
       "      <td>0.000000</td>\n",
       "      <td>106.519997</td>\n",
       "      <td>39130000</td>\n",
       "      <td>106.519997</td>\n",
       "      <td>1.235502</td>\n",
       "    </tr>\n",
       "    <tr>\n",
       "      <th>1980-01-07</th>\n",
       "      <td>107.800003</td>\n",
       "      <td>105.800003</td>\n",
       "      <td>0.000000</td>\n",
       "      <td>106.809998</td>\n",
       "      <td>44500000</td>\n",
       "      <td>106.809998</td>\n",
       "      <td>0.272250</td>\n",
       "    </tr>\n",
       "    <tr>\n",
       "      <th>1980-01-08</th>\n",
       "      <td>109.290001</td>\n",
       "      <td>106.290001</td>\n",
       "      <td>0.000000</td>\n",
       "      <td>108.949997</td>\n",
       "      <td>53390000</td>\n",
       "      <td>108.949997</td>\n",
       "      <td>2.003557</td>\n",
       "    </tr>\n",
       "    <tr>\n",
       "      <th>...</th>\n",
       "      <td>...</td>\n",
       "      <td>...</td>\n",
       "      <td>...</td>\n",
       "      <td>...</td>\n",
       "      <td>...</td>\n",
       "      <td>...</td>\n",
       "      <td>...</td>\n",
       "    </tr>\n",
       "    <tr>\n",
       "      <th>2021-03-22</th>\n",
       "      <td>3955.310059</td>\n",
       "      <td>3914.159912</td>\n",
       "      <td>3916.479980</td>\n",
       "      <td>3940.590088</td>\n",
       "      <td>4311380000</td>\n",
       "      <td>3940.590088</td>\n",
       "      <td>0.702512</td>\n",
       "    </tr>\n",
       "    <tr>\n",
       "      <th>2021-03-23</th>\n",
       "      <td>3949.129883</td>\n",
       "      <td>3901.570068</td>\n",
       "      <td>3937.600098</td>\n",
       "      <td>3910.520020</td>\n",
       "      <td>4645340000</td>\n",
       "      <td>3910.520020</td>\n",
       "      <td>-0.763085</td>\n",
       "    </tr>\n",
       "    <tr>\n",
       "      <th>2021-03-24</th>\n",
       "      <td>3942.080078</td>\n",
       "      <td>3889.070068</td>\n",
       "      <td>3919.929932</td>\n",
       "      <td>3889.139893</td>\n",
       "      <td>4766990000</td>\n",
       "      <td>3889.139893</td>\n",
       "      <td>-0.546734</td>\n",
       "    </tr>\n",
       "    <tr>\n",
       "      <th>2021-03-25</th>\n",
       "      <td>3919.540039</td>\n",
       "      <td>3853.500000</td>\n",
       "      <td>3879.340088</td>\n",
       "      <td>3909.520020</td>\n",
       "      <td>4940800000</td>\n",
       "      <td>3909.520020</td>\n",
       "      <td>0.524027</td>\n",
       "    </tr>\n",
       "    <tr>\n",
       "      <th>2021-03-26</th>\n",
       "      <td>3978.189941</td>\n",
       "      <td>3917.120117</td>\n",
       "      <td>3917.120117</td>\n",
       "      <td>3974.540039</td>\n",
       "      <td>2631346285</td>\n",
       "      <td>3974.540039</td>\n",
       "      <td>1.663120</td>\n",
       "    </tr>\n",
       "  </tbody>\n",
       "</table>\n",
       "<p>10398 rows × 7 columns</p>\n",
       "</div>"
      ],
      "text/plain": [
       "                   High          Low         Open        Close      Volume  \\\n",
       "Date                                                                         \n",
       "1980-01-02   108.430000   105.290001     0.000000   105.760002    40610000   \n",
       "1980-01-03   106.080002   103.260002     0.000000   105.220001    50480000   \n",
       "1980-01-04   107.080002   105.089996     0.000000   106.519997    39130000   \n",
       "1980-01-07   107.800003   105.800003     0.000000   106.809998    44500000   \n",
       "1980-01-08   109.290001   106.290001     0.000000   108.949997    53390000   \n",
       "...                 ...          ...          ...          ...         ...   \n",
       "2021-03-22  3955.310059  3914.159912  3916.479980  3940.590088  4311380000   \n",
       "2021-03-23  3949.129883  3901.570068  3937.600098  3910.520020  4645340000   \n",
       "2021-03-24  3942.080078  3889.070068  3919.929932  3889.139893  4766990000   \n",
       "2021-03-25  3919.540039  3853.500000  3879.340088  3909.520020  4940800000   \n",
       "2021-03-26  3978.189941  3917.120117  3917.120117  3974.540039  2631346285   \n",
       "\n",
       "              Adj Close  daily_return  \n",
       "Date                                   \n",
       "1980-01-02   105.760002           NaN  \n",
       "1980-01-03   105.220001     -0.510591  \n",
       "1980-01-04   106.519997      1.235502  \n",
       "1980-01-07   106.809998      0.272250  \n",
       "1980-01-08   108.949997      2.003557  \n",
       "...                 ...           ...  \n",
       "2021-03-22  3940.590088      0.702512  \n",
       "2021-03-23  3910.520020     -0.763085  \n",
       "2021-03-24  3889.139893     -0.546734  \n",
       "2021-03-25  3909.520020      0.524027  \n",
       "2021-03-26  3974.540039      1.663120  \n",
       "\n",
       "[10398 rows x 7 columns]"
      ]
     },
     "execution_count": 6,
     "metadata": {},
     "output_type": "execute_result"
    }
   ],
   "source": [
    "sp500 = pdr.get_data_yahoo('^GSPC', 1980)\n",
    "sp500[\"daily_return\"] = sp500[\"Adj Close\"].pct_change(1) * 100\n",
    "sp500"
   ]
  },
  {
   "cell_type": "markdown",
   "id": "northern-factory",
   "metadata": {},
   "source": [
    "What is the average daily return? Is it statistically significant at the 5% level?"
   ]
  },
  {
   "cell_type": "code",
   "execution_count": 23,
   "id": "forward-intelligence",
   "metadata": {},
   "outputs": [
    {
     "name": "stdout",
     "output_type": "stream",
     "text": [
      "Average Daily Return: 0.04132078752448043\n",
      "Confidence Interval: (0.019587789943823028,0.06305378510513783)\n"
     ]
    }
   ],
   "source": [
    "avg_return = sp500[\"daily_return\"].mean()\n",
    "n = len(sp500[\"daily_return\"])-sum(sp500[\"daily_return\"].isna())\n",
    "std_return = np.std(sp500[\"daily_return\"])\n",
    "\n",
    "conf_lower = avg_return - (1.96 * (std_return/np.sqrt(n)))\n",
    "conf_upper = avg_return + (1.96 * (std_return/np.sqrt(n)))\n",
    "print(\"Average Daily Return: \" + str(avg_return))\n",
    "print(\"Confidence Interval: \" + \"(\" + str(conf_lower) + \",\" + str(conf_upper) + \")\")"
   ]
  },
  {
   "cell_type": "markdown",
   "id": "introductory-battery",
   "metadata": {},
   "source": [
    "The average daily return is about .04%. Under the null hypothesis that the average daily return is 0, the observed return is statistically significant at 95%, indicated by 0 being outside the bounds of the confidence interval."
   ]
  },
  {
   "cell_type": "markdown",
   "id": "atlantic-customer",
   "metadata": {},
   "source": [
    "Plot the ACF for daily returns in two time periods: 1980-1999 and 2000-present. Do a Ljung-Box test with $m=20$. What is the $p$-value of this test? Interpret this result, being sure to comment on any differences you see between the two periods."
   ]
  },
  {
   "cell_type": "code",
   "execution_count": 37,
   "id": "annual-allah",
   "metadata": {},
   "outputs": [
    {
     "data": {
      "text/plain": [
       "Date\n",
       "1980-01-03   -0.510591\n",
       "1980-01-04    1.235502\n",
       "1980-01-07    0.272250\n",
       "1980-01-08    2.003557\n",
       "1980-01-09    0.091791\n",
       "                ...   \n",
       "1999-12-27   -0.085028\n",
       "1999-12-28    0.038437\n",
       "1999-12-29    0.397893\n",
       "1999-12-30    0.069015\n",
       "1999-12-31    0.326400\n",
       "Name: daily_return, Length: 5055, dtype: float64"
      ]
     },
     "execution_count": 37,
     "metadata": {},
     "output_type": "execute_result"
    }
   ],
   "source": [
    "sp500_first = sp500.loc['1980':'1999',\"daily_return\"]\n",
    "sp500_first.dropna(inplace=True)\n",
    "sp500_first"
   ]
  },
  {
   "cell_type": "code",
   "execution_count": 38,
   "id": "persistent-australia",
   "metadata": {},
   "outputs": [
    {
     "data": {
      "image/png": "[encoded data removed]",
      "text/plain": [
       "<Figure size 432x288 with 1 Axes>"
      ]
     },
     "metadata": {
      "needs_background": "light"
     },
     "output_type": "display_data"
    }
   ],
   "source": [
    "fig = sm.graphics.tsa.plot_acf(sp500_first, lags=10, zero=False)"
   ]
  },
  {
   "cell_type": "code",
   "execution_count": 39,
   "id": "overall-seminar",
   "metadata": {},
   "outputs": [
    {
     "data": {
      "text/plain": [
       "Date\n",
       "2000-01-03   -0.954911\n",
       "2000-01-04   -3.834467\n",
       "2000-01-05    0.192218\n",
       "2000-01-06    0.095568\n",
       "2000-01-07    2.709040\n",
       "                ...   \n",
       "2021-03-22    0.702512\n",
       "2021-03-23   -0.763085\n",
       "2021-03-24   -0.546734\n",
       "2021-03-25    0.524027\n",
       "2021-03-26    1.663120\n",
       "Name: daily_return, Length: 5342, dtype: float64"
      ]
     },
     "execution_count": 39,
     "metadata": {},
     "output_type": "execute_result"
    }
   ],
   "source": [
    "sp500_second = sp500.loc['2000':,\"daily_return\"]\n",
    "sp500_second.dropna(inplace=True)\n",
    "sp500_second"
   ]
  },
  {
   "cell_type": "code",
   "execution_count": 40,
   "id": "otherwise-melbourne",
   "metadata": {},
   "outputs": [
    {
     "data": {
      "image/png": "[encoded data removed]",
      "text/plain": [
       "<Figure size 432x288 with 1 Axes>"
      ]
     },
     "metadata": {
      "needs_background": "light"
     },
     "output_type": "display_data"
    }
   ],
   "source": [
    "fig = sm.graphics.tsa.plot_acf(sp500_second, lags=10, zero=False)"
   ]
  },
  {
   "cell_type": "code",
   "execution_count": 87,
   "id": "vocational-berlin",
   "metadata": {},
   "outputs": [
    {
     "name": "stdout",
     "output_type": "stream",
     "text": [
      "38.16428152705129\n",
      "182.77126965488898\n"
     ]
    },
    {
     "data": {
      "text/plain": [
       "31.410432844230918"
      ]
     },
     "execution_count": 87,
     "metadata": {},
     "output_type": "execute_result"
    }
   ],
   "source": [
    "m = 20\n",
    "\n",
    "acfs1 = st.acf(sp500_first, nlags=m+1)\n",
    "acfs2 = st.acf(sp500_second, nlags=m+1)\n",
    "\n",
    "T1 = len(sp500_first)\n",
    "k1 = np.arange(1,len(acfs1))\n",
    "\n",
    "T2 = len(sp500_second)\n",
    "k2 = np.arange(1,len(acfs2))\n",
    "\n",
    "# Q(m) statistic\n",
    "q1 = T1 * (T1+2) * (acfs1[1:]**2 / (T1-k1)).sum()\n",
    "print(q1)\n",
    "\n",
    "q2 = T2 * (T2+2) * (acfs2[1:]**2 / (T2-k2)).sum()\n",
    "print(q2)\n",
    "\n",
    "from scipy.stats import chi2\n",
    "\n",
    "chi2.ppf(0.95, df=m)"
   ]
  },
  {
   "cell_type": "code",
   "execution_count": 85,
   "id": "desirable-invite",
   "metadata": {},
   "outputs": [
    {
     "name": "stdout",
     "output_type": "stream",
     "text": [
      "[6.30956340e-03 3.25367736e-03 1.19224878e-04 2.15317164e-05\n",
      " 4.46908870e-05 9.93506565e-05 1.21251567e-04 2.03704375e-04\n",
      " 4.16689216e-04 7.99098413e-04 5.57214203e-04 6.84429653e-04\n",
      " 9.91321271e-04 1.00119892e-03 1.67037610e-03 2.53308776e-03\n",
      " 2.68560343e-03 4.21503003e-03 6.32781297e-03 8.87116297e-03]\n"
     ]
    }
   ],
   "source": [
    "acf1, qstats1, pvals1 = st.acf(sp500_first, nlags=m, qstat=True)\n",
    "print(pvals1)"
   ]
  },
  {
   "cell_type": "code",
   "execution_count": 51,
   "id": "suspended-booking",
   "metadata": {},
   "outputs": [
    {
     "name": "stdout",
     "output_type": "stream",
     "text": [
      "[5.02924467e-17 4.61043394e-16 1.92850844e-15 1.22466478e-15\n",
      " 2.80728075e-15 2.14102437e-16 5.79141470e-17 1.88357372e-17\n",
      " 1.97051834e-18 6.94950840e-18 1.38817713e-17 2.56848326e-19\n",
      " 4.22800310e-19 1.26953686e-18 2.37226700e-22 5.39630841e-28\n",
      " 1.56560161e-27 6.16011578e-29 1.97301728e-28 6.20539332e-28]\n"
     ]
    }
   ],
   "source": [
    "acf2, qstats2, pvals2 = st.acf(sp500_second, nlags=m, qstat=True)\n",
    "print(pvals2)"
   ]
  },
  {
   "cell_type": "markdown",
   "id": "sunrise-gabriel",
   "metadata": {},
   "source": [
    "The p-values for each of the time periods are very low, an indication that there is some autocorrelation in the data up to 20 lags using a 95% confidence interval. It also seems like there is stronger evidence of this in the more recent data, as the p-values are significantly lower for the data since 2000 than 1980-1999. This can also be seen with the Q-stat, which is much farther than the 95% Q-stat from the chi distribution for the second set of data than the first."
   ]
  },
  {
   "cell_type": "markdown",
   "id": "employed-airline",
   "metadata": {},
   "source": [
    "Again, using two separate time periods (1980–1999 and 2000–present), use the BIC to select the order $p$ of an $AR(p)$ model for daily returns. (Consider up to 10 lags.)\n",
    "\n",
    "Then estimate the model using `AutoReg` and report both serial correlation and Normality tests of the residuals. Discuss your results."
   ]
  },
  {
   "cell_type": "code",
   "execution_count": 71,
   "id": "transsexual-china",
   "metadata": {},
   "outputs": [
    {
     "data": {
      "text/plain": [
       "{0: -0.022253637540028903,\n",
       " (1,): -0.02204024600405499,\n",
       " (1, 2): -0.02127634862951138,\n",
       " (1, 2, 3): -0.0212337311330017,\n",
       " (1, 2, 3, 4): -0.020619481997988416,\n",
       " (1, 2, 3, 4, 5): -0.019071994110662113,\n",
       " (1, 2, 3, 4, 5, 6): -0.01739396726886336,\n",
       " (1, 2, 3, 4, 5, 6, 7): -0.016113536461810875,\n",
       " (1, 2, 3, 4, 5, 6, 7, 8): -0.014521807595252845,\n",
       " (1, 2, 3, 4, 5, 6, 7, 8, 9): -0.012846566955178475,\n",
       " (1, 2, 3, 4, 5, 6, 7, 8, 9, 10): -0.01115780931675582}"
      ]
     },
     "execution_count": 71,
     "metadata": {},
     "output_type": "execute_result"
    }
   ],
   "source": [
    "modselect1 = ar_select_order(sp500_first, maxlag=10, old_names=False)\n",
    "modselect1.bic"
   ]
  },
  {
   "cell_type": "code",
   "execution_count": 72,
   "id": "limited-finder",
   "metadata": {},
   "outputs": [
    {
     "data": {
      "text/plain": [
       "{(1,): 0.4354961729786091,\n",
       " (1, 2): 0.4366856427019028,\n",
       " (1, 2, 3): 0.43815065924666136,\n",
       " (1, 2, 3, 4): 0.43909739547456406,\n",
       " (1, 2, 3, 4, 5, 6): 0.43957415034034203,\n",
       " (1, 2, 3, 4, 5): 0.4401353318915507,\n",
       " (1, 2, 3, 4, 5, 6, 7): 0.4406265763719927,\n",
       " (1, 2, 3, 4, 5, 6, 7, 8): 0.44156373099027507,\n",
       " (1, 2, 3, 4, 5, 6, 7, 8, 9): 0.44212843856032336,\n",
       " (1, 2, 3, 4, 5, 6, 7, 8, 9, 10): 0.44373087829340885,\n",
       " 0: 0.4473983750704926}"
      ]
     },
     "execution_count": 72,
     "metadata": {},
     "output_type": "execute_result"
    }
   ],
   "source": [
    "modselect2 = ar_select_order(sp500_second, maxlag=10, old_names=False)\n",
    "modselect2.bic"
   ]
  },
  {
   "cell_type": "code",
   "execution_count": 94,
   "id": "square-squad",
   "metadata": {},
   "outputs": [
    {
     "name": "stdout",
     "output_type": "stream",
     "text": [
      "                            AutoReg Model Results                             \n",
      "==============================================================================\n",
      "Dep. Variable:           daily_return   No. Observations:                 5055\n",
      "Model:                     AutoReg(1)   Log Likelihood               -7105.799\n",
      "Method:               Conditional MLE   S.D. of innovations              0.987\n",
      "Date:                Sun, 28 Mar 2021   AIC                             -0.025\n",
      "Time:                        21:18:29   BIC                             -0.021\n",
      "Sample:                             1   HQIC                            -0.023\n",
      "                                 5055                                         \n",
      "===================================================================================\n",
      "                      coef    std err          z      P>|z|      [0.025      0.975]\n",
      "-----------------------------------------------------------------------------------\n",
      "intercept           0.0549      0.014      3.950      0.000       0.028       0.082\n",
      "daily_return.L1     0.0384      0.014      2.732      0.006       0.011       0.066\n",
      "                                    Roots                                    \n",
      "=============================================================================\n",
      "                  Real          Imaginary           Modulus         Frequency\n",
      "-----------------------------------------------------------------------------\n",
      "AR.1           26.0389           +0.0000j           26.0389            0.0000\n",
      "-----------------------------------------------------------------------------\n"
     ]
    }
   ],
   "source": [
    "res1 = AutoReg(sp500_first, lags=0).fit()\n",
    "print(res1.summary())"
   ]
  },
  {
   "cell_type": "code",
   "execution_count": 95,
   "id": "simple-witness",
   "metadata": {},
   "outputs": [
    {
     "data": {
      "text/html": [
       "<div>\n",
       "<style scoped>\n",
       "    .dataframe tbody tr th:only-of-type {\n",
       "        vertical-align: middle;\n",
       "    }\n",
       "\n",
       "    .dataframe tbody tr th {\n",
       "        vertical-align: top;\n",
       "    }\n",
       "\n",
       "    .dataframe thead th {\n",
       "        text-align: right;\n",
       "    }\n",
       "</style>\n",
       "<table border=\"1\" class=\"dataframe\">\n",
       "  <thead>\n",
       "    <tr style=\"text-align: right;\">\n",
       "      <th></th>\n",
       "      <th>Ljung-Box</th>\n",
       "      <th>LB P-value</th>\n",
       "      <th>DF</th>\n",
       "    </tr>\n",
       "    <tr>\n",
       "      <th>Lag</th>\n",
       "      <th></th>\n",
       "      <th></th>\n",
       "      <th></th>\n",
       "    </tr>\n",
       "  </thead>\n",
       "  <tbody>\n",
       "    <tr>\n",
       "      <th>1</th>\n",
       "      <td>0.008235</td>\n",
       "      <td>NaN</td>\n",
       "      <td>0</td>\n",
       "    </tr>\n",
       "    <tr>\n",
       "      <th>2</th>\n",
       "      <td>3.973848</td>\n",
       "      <td>0.046212</td>\n",
       "      <td>1</td>\n",
       "    </tr>\n",
       "    <tr>\n",
       "      <th>3</th>\n",
       "      <td>12.199864</td>\n",
       "      <td>0.002243</td>\n",
       "      <td>2</td>\n",
       "    </tr>\n",
       "    <tr>\n",
       "      <th>4</th>\n",
       "      <td>17.913782</td>\n",
       "      <td>0.000458</td>\n",
       "      <td>3</td>\n",
       "    </tr>\n",
       "    <tr>\n",
       "      <th>5</th>\n",
       "      <td>18.772932</td>\n",
       "      <td>0.000871</td>\n",
       "      <td>4</td>\n",
       "    </tr>\n",
       "    <tr>\n",
       "      <th>6</th>\n",
       "      <td>19.120139</td>\n",
       "      <td>0.001826</td>\n",
       "      <td>5</td>\n",
       "    </tr>\n",
       "    <tr>\n",
       "      <th>7</th>\n",
       "      <td>20.647182</td>\n",
       "      <td>0.002122</td>\n",
       "      <td>6</td>\n",
       "    </tr>\n",
       "    <tr>\n",
       "      <th>8</th>\n",
       "      <td>21.249175</td>\n",
       "      <td>0.003418</td>\n",
       "      <td>7</td>\n",
       "    </tr>\n",
       "    <tr>\n",
       "      <th>9</th>\n",
       "      <td>21.299083</td>\n",
       "      <td>0.006394</td>\n",
       "      <td>8</td>\n",
       "    </tr>\n",
       "    <tr>\n",
       "      <th>10</th>\n",
       "      <td>21.379130</td>\n",
       "      <td>0.011069</td>\n",
       "      <td>9</td>\n",
       "    </tr>\n",
       "  </tbody>\n",
       "</table>\n",
       "</div>"
      ],
      "text/plain": [
       "     Ljung-Box  LB P-value  DF\n",
       "Lag                           \n",
       "1     0.008235         NaN   0\n",
       "2     3.973848    0.046212   1\n",
       "3    12.199864    0.002243   2\n",
       "4    17.913782    0.000458   3\n",
       "5    18.772932    0.000871   4\n",
       "6    19.120139    0.001826   5\n",
       "7    20.647182    0.002122   6\n",
       "8    21.249175    0.003418   7\n",
       "9    21.299083    0.006394   8\n",
       "10   21.379130    0.011069   9"
      ]
     },
     "execution_count": 95,
     "metadata": {},
     "output_type": "execute_result"
    }
   ],
   "source": [
    "res1.test_serial_correlation(10)"
   ]
  },
  {
   "cell_type": "code",
   "execution_count": 124,
   "id": "charming-gospel",
   "metadata": {},
   "outputs": [
    {
     "data": {
      "text/plain": [
       "Jarque-Bera    351195.176901\n",
       "P-value             0.000000\n",
       "Skewness           -1.844743\n",
       "Kurtosis           43.670789\n",
       "dtype: float64"
      ]
     },
     "execution_count": 124,
     "metadata": {},
     "output_type": "execute_result"
    }
   ],
   "source": [
    "res1.test_normality()"
   ]
  },
  {
   "cell_type": "code",
   "execution_count": 77,
   "id": "informative-reliance",
   "metadata": {},
   "outputs": [
    {
     "name": "stdout",
     "output_type": "stream",
     "text": [
      "                            AutoReg Model Results                             \n",
      "==============================================================================\n",
      "Dep. Variable:           daily_return   No. Observations:                 5342\n",
      "Model:                     AutoReg(1)   Log Likelihood               -8738.049\n",
      "Method:               Conditional MLE   S.D. of innovations              1.242\n",
      "Date:                Sun, 28 Mar 2021   AIC                              0.435\n",
      "Time:                        18:04:18   BIC                              0.439\n",
      "Sample:                             1   HQIC                             0.437\n",
      "                                 5342                                         \n",
      "===================================================================================\n",
      "                      coef    std err          z      P>|z|      [0.025      0.975]\n",
      "-----------------------------------------------------------------------------------\n",
      "intercept           0.0297      0.017      1.744      0.081      -0.004       0.063\n",
      "daily_return.L1    -0.1147      0.014     -8.440      0.000      -0.141      -0.088\n",
      "                                    Roots                                    \n",
      "=============================================================================\n",
      "                  Real          Imaginary           Modulus         Frequency\n",
      "-----------------------------------------------------------------------------\n",
      "AR.1           -8.7152           +0.0000j            8.7152            0.5000\n",
      "-----------------------------------------------------------------------------\n"
     ]
    }
   ],
   "source": [
    "res2 = AutoReg(sp500_second, lags=1).fit()\n",
    "print(res2.summary())"
   ]
  },
  {
   "cell_type": "code",
   "execution_count": 78,
   "id": "arranged-battle",
   "metadata": {},
   "outputs": [
    {
     "data": {
      "text/html": [
       "<div>\n",
       "<style scoped>\n",
       "    .dataframe tbody tr th:only-of-type {\n",
       "        vertical-align: middle;\n",
       "    }\n",
       "\n",
       "    .dataframe tbody tr th {\n",
       "        vertical-align: top;\n",
       "    }\n",
       "\n",
       "    .dataframe thead th {\n",
       "        text-align: right;\n",
       "    }\n",
       "</style>\n",
       "<table border=\"1\" class=\"dataframe\">\n",
       "  <thead>\n",
       "    <tr style=\"text-align: right;\">\n",
       "      <th></th>\n",
       "      <th>Ljung-Box</th>\n",
       "      <th>LB P-value</th>\n",
       "      <th>DF</th>\n",
       "    </tr>\n",
       "    <tr>\n",
       "      <th>Lag</th>\n",
       "      <th></th>\n",
       "      <th></th>\n",
       "      <th></th>\n",
       "    </tr>\n",
       "  </thead>\n",
       "  <tbody>\n",
       "    <tr>\n",
       "      <th>1</th>\n",
       "      <td>0.044242</td>\n",
       "      <td>NaN</td>\n",
       "      <td>0</td>\n",
       "    </tr>\n",
       "    <tr>\n",
       "      <th>2</th>\n",
       "      <td>2.078106</td>\n",
       "      <td>0.149425</td>\n",
       "      <td>1</td>\n",
       "    </tr>\n",
       "    <tr>\n",
       "      <th>3</th>\n",
       "      <td>2.587197</td>\n",
       "      <td>0.274282</td>\n",
       "      <td>2</td>\n",
       "    </tr>\n",
       "    <tr>\n",
       "      <th>4</th>\n",
       "      <td>7.221606</td>\n",
       "      <td>0.065160</td>\n",
       "      <td>3</td>\n",
       "    </tr>\n",
       "    <tr>\n",
       "      <th>5</th>\n",
       "      <td>10.548804</td>\n",
       "      <td>0.032131</td>\n",
       "      <td>4</td>\n",
       "    </tr>\n",
       "    <tr>\n",
       "      <th>6</th>\n",
       "      <td>18.688863</td>\n",
       "      <td>0.002196</td>\n",
       "      <td>5</td>\n",
       "    </tr>\n",
       "    <tr>\n",
       "      <th>7</th>\n",
       "      <td>22.090057</td>\n",
       "      <td>0.001166</td>\n",
       "      <td>6</td>\n",
       "    </tr>\n",
       "    <tr>\n",
       "      <th>8</th>\n",
       "      <td>25.124707</td>\n",
       "      <td>0.000721</td>\n",
       "      <td>7</td>\n",
       "    </tr>\n",
       "    <tr>\n",
       "      <th>9</th>\n",
       "      <td>31.715022</td>\n",
       "      <td>0.000105</td>\n",
       "      <td>8</td>\n",
       "    </tr>\n",
       "    <tr>\n",
       "      <th>10</th>\n",
       "      <td>31.726240</td>\n",
       "      <td>0.000222</td>\n",
       "      <td>9</td>\n",
       "    </tr>\n",
       "  </tbody>\n",
       "</table>\n",
       "</div>"
      ],
      "text/plain": [
       "     Ljung-Box  LB P-value  DF\n",
       "Lag                           \n",
       "1     0.044242         NaN   0\n",
       "2     2.078106    0.149425   1\n",
       "3     2.587197    0.274282   2\n",
       "4     7.221606    0.065160   3\n",
       "5    10.548804    0.032131   4\n",
       "6    18.688863    0.002196   5\n",
       "7    22.090057    0.001166   6\n",
       "8    25.124707    0.000721   7\n",
       "9    31.715022    0.000105   8\n",
       "10   31.726240    0.000222   9"
      ]
     },
     "execution_count": 78,
     "metadata": {},
     "output_type": "execute_result"
    }
   ],
   "source": [
    "res2.test_serial_correlation(10)"
   ]
  },
  {
   "cell_type": "code",
   "execution_count": 125,
   "id": "local-edgar",
   "metadata": {},
   "outputs": [
    {
     "data": {
      "text/plain": [
       "Jarque-Bera    22633.896242\n",
       "P-value            0.000000\n",
       "Skewness          -0.285281\n",
       "Kurtosis          13.068803\n",
       "dtype: float64"
      ]
     },
     "execution_count": 125,
     "metadata": {},
     "output_type": "execute_result"
    }
   ],
   "source": [
    "res2.test_normality()"
   ]
  },
  {
   "cell_type": "markdown",
   "id": "sound-somerset",
   "metadata": {},
   "source": [
    "The BIC seems to favor a smaller number of lags for each of the datasets, which is understandable because of the penalty the BIC puts on extra variables as described in class. The earlier set of data says that zero lags in the AR model is the best fit, although this does not seem to match with the serial correlation test, which gives a much higher p-value for the first lag with one lag in the AutoReg model compared to zero, which indicates there is less unexplained structure in the residuals. For the later set of data, the BIC indicates that one lag would be the optimal AutoReg model, and this proves to be helpful with fairly high p-values for each of the first four lags in the Ljung-Box test."
   ]
  },
  {
   "cell_type": "markdown",
   "id": "romance-serbia",
   "metadata": {},
   "source": [
    "Next, estimate various ARMA($p$,$q$) models in each of the two sub-periods. Use a loop to try all values of $p$ and $q$ from 0 up to 4. Then choose the *simplest* model that generates residuals where the Ljung-Box $Q(10)$ cannot reject the null of no serial correlation.\n",
    "\n",
    "Comment on the results!\n",
    "\n",
    "<hr>\n",
    "\n",
    "**Pro tip**: After estimating a model with `ARIMA`, we can test the serial correlation of the residuals like this:\n",
    "\n",
    "`lb = arma.test_serial_correlation('ljungbox')`\n",
    "\n",
    "The $p$-values for this test are then stored in this array:\n",
    "\n",
    "`lb[0][-1]`"
   ]
  },
  {
   "cell_type": "code",
   "execution_count": 99,
   "id": "forty-judge",
   "metadata": {},
   "outputs": [],
   "source": [
    "#min_q = chi2.ppf(0.95, df=10)"
   ]
  },
  {
   "cell_type": "code",
   "execution_count": 103,
   "id": "declared-inspection",
   "metadata": {},
   "outputs": [
    {
     "data": {
      "text/plain": [
       "array([6.30956340e-03, 3.25367736e-03, 1.19224878e-04, 2.15317164e-05,\n",
       "       4.46908870e-05, 9.93506565e-05, 1.21251567e-04, 2.03704375e-04,\n",
       "       4.16689216e-04, 7.99098413e-04])"
      ]
     },
     "execution_count": 103,
     "metadata": {},
     "output_type": "execute_result"
    }
   ],
   "source": [
    "# restest = ARIMA(sp500_first,order=(0,0,0)).fit()\n",
    "# lb = restest.test_serial_correlation('ljungbox')\n",
    "# lb[0][-1]"
   ]
  },
  {
   "cell_type": "code",
   "execution_count": 114,
   "id": "alleged-jackson",
   "metadata": {},
   "outputs": [
    {
     "name": "stdout",
     "output_type": "stream",
     "text": [
      "0\n",
      "1\n"
     ]
    }
   ],
   "source": [
    "#Finding best for first set\n",
    "p1 = 5\n",
    "q1s = 5\n",
    "for p in range(0,5):\n",
    "    for q in range(0,5):\n",
    "        usable = 0\n",
    "        arma = ARIMA(sp500_first,order=(p,0,q)).fit()\n",
    "        lb1 = arma.test_serial_correlation('ljungbox')\n",
    "        p_values = lb1[0][-1]\n",
    "        for value in p_values:\n",
    "            if value > .05:\n",
    "                usable += 1\n",
    "            else:\n",
    "                pass\n",
    "        if usable != 0 and (p+q) < (p1+q1s):\n",
    "            p1 = p\n",
    "            q1s = q\n",
    "        else:\n",
    "            pass\n",
    "print(p1)\n",
    "print(q1s)"
   ]
  },
  {
   "cell_type": "markdown",
   "id": "guilty-vietnam",
   "metadata": {},
   "source": [
    "The simplest model for the first dataset that generates residuals where at least one of the lags in the model cannot be rejected due to serial correlation is an ARMA(0,1) model. An ARMA(1,0) also has p-values for the first two lags that do not reject the null of no serial correlation."
   ]
  },
  {
   "cell_type": "code",
   "execution_count": 113,
   "id": "fancy-cooler",
   "metadata": {},
   "outputs": [
    {
     "data": {
      "text/plain": [
       "array([0.94343785, 0.17046632, 0.00810901, 0.00154418, 0.00254368,\n",
       "       0.00472459, 0.00511908, 0.00763628, 0.01323707, 0.0214123 ])"
      ]
     },
     "execution_count": 113,
     "metadata": {},
     "output_type": "execute_result"
    }
   ],
   "source": [
    "# arma1 = ARIMA(sp500_first,order=(0,0,1)).fit()\n",
    "# lbt = arma1.test_serial_correlation('ljungbox')\n",
    "# lbt[0][-1]"
   ]
  },
  {
   "cell_type": "code",
   "execution_count": 115,
   "id": "entertaining-treasure",
   "metadata": {},
   "outputs": [
    {
     "name": "stderr",
     "output_type": "stream",
     "text": [
      "C:\\Users\\Edward\\anaconda3\\lib\\site-packages\\statsmodels\\base\\model.py:566: ConvergenceWarning: Maximum Likelihood optimization failed to converge. Check mle_retvals\n",
      "  warnings.warn(\"Maximum Likelihood optimization failed to \"\n",
      "C:\\Users\\Edward\\anaconda3\\lib\\site-packages\\statsmodels\\base\\model.py:566: ConvergenceWarning: Maximum Likelihood optimization failed to converge. Check mle_retvals\n",
      "  warnings.warn(\"Maximum Likelihood optimization failed to \"\n",
      "C:\\Users\\Edward\\anaconda3\\lib\\site-packages\\statsmodels\\base\\model.py:566: ConvergenceWarning: Maximum Likelihood optimization failed to converge. Check mle_retvals\n",
      "  warnings.warn(\"Maximum Likelihood optimization failed to \"\n"
     ]
    },
    {
     "name": "stdout",
     "output_type": "stream",
     "text": [
      "0\n",
      "1\n"
     ]
    }
   ],
   "source": [
    "#Finding best for second set\n",
    "p2 = 5\n",
    "q2 = 5\n",
    "for p in range(0,5):\n",
    "    for q in range(0,5):\n",
    "        usable = 0\n",
    "        arma = ARIMA(sp500_second,order=(p,0,q)).fit()\n",
    "        lb2 = arma.test_serial_correlation('ljungbox')\n",
    "        p_values = lb2[0][-1]\n",
    "        for value in p_values:\n",
    "            if value > .05:\n",
    "                usable += 1\n",
    "            else:\n",
    "                pass\n",
    "        if usable != 0 and (p+q) < (p2+q2):\n",
    "            p2 = p\n",
    "            q2 = q\n",
    "        else:\n",
    "            pass\n",
    "print(p2)\n",
    "print(q2)"
   ]
  },
  {
   "cell_type": "markdown",
   "id": "civilian-taste",
   "metadata": {},
   "source": [
    "The simplest model for the second dataset for which the ljung-box test cannot reject the null is also an ARMA(0,1) test, though the p-values are notably smaller. The ARMA(1,0) model would also work for this dataset."
   ]
  },
  {
   "cell_type": "code",
   "execution_count": 118,
   "id": "given-genesis",
   "metadata": {},
   "outputs": [
    {
     "data": {
      "text/plain": [
       "array([8.59765604e-01, 3.57375480e-01, 4.63488403e-01, 1.20819925e-01,\n",
       "       5.82853255e-02, 4.60314069e-03, 2.37144588e-03, 1.41418098e-03,\n",
       "       2.17318225e-04, 4.33588038e-04])"
      ]
     },
     "execution_count": 118,
     "metadata": {},
     "output_type": "execute_result"
    }
   ],
   "source": [
    "# arma2 = ARIMA(sp500_second,order=(1,0,0)).fit()\n",
    "# lbt = arma2.test_serial_correlation('ljungbox')\n",
    "# lbt[0][-1]"
   ]
  },
  {
   "cell_type": "markdown",
   "id": "protecting-reward",
   "metadata": {},
   "source": [
    "## Monthly data"
   ]
  },
  {
   "cell_type": "markdown",
   "id": "moderate-cross",
   "metadata": {},
   "source": [
    "Finally, do the Ljung-Box test on *monthly* returns data during the two periods. Comment on the similarity or difference of these results to what you found using daily data above.\n",
    "\n",
    "<hr>\n",
    "\n",
    "**Pro tip**: Recall that we can go from daily to monthly data by resampling the price series:\n",
    "\n",
    "`sp500['Adj Close'].resample('M').last().pct_change()`"
   ]
  },
  {
   "cell_type": "code",
   "execution_count": 134,
   "id": "arranged-morrison",
   "metadata": {},
   "outputs": [],
   "source": [
    "monthly1 = sp500_first.resample('M').last().pct_change()\n",
    "monthly2 = sp500_second.resample('M').last().pct_change()\n",
    "monthly1.dropna(inplace=True)\n",
    "monthly2.dropna(inplace=True)"
   ]
  },
  {
   "cell_type": "code",
   "execution_count": 135,
   "id": "viral-financing",
   "metadata": {},
   "outputs": [
    {
     "name": "stdout",
     "output_type": "stream",
     "text": [
      "1.4096183486279739\n",
      "0.1597190069655866\n"
     ]
    },
    {
     "data": {
      "text/plain": [
       "31.410432844230918"
      ]
     },
     "execution_count": 135,
     "metadata": {},
     "output_type": "execute_result"
    }
   ],
   "source": [
    "m = 20\n",
    "\n",
    "acfs11 = st.acf(monthly1, nlags=m+1)\n",
    "acfs22 = st.acf(monthly2, nlags=m+1)\n",
    "\n",
    "T11 = len(monthly1)\n",
    "k11 = np.arange(1,len(acfs11))\n",
    "\n",
    "T22 = len(monthly2)\n",
    "k22 = np.arange(1,len(acfs22))\n",
    "\n",
    "# Q(m) statistic\n",
    "q11 = T11 * (T11+2) * (acfs11[1:]**2 / (T11-k11)).sum()\n",
    "print(q11)\n",
    "\n",
    "q22 = T22 * (T22+2) * (acfs22[1:]**2 / (T22-k22)).sum()\n",
    "print(q22)\n",
    "\n",
    "from scipy.stats import chi2\n",
    "\n",
    "chi2.ppf(0.95, df=m)"
   ]
  },
  {
   "cell_type": "code",
   "execution_count": 137,
   "id": "forbidden-haven",
   "metadata": {},
   "outputs": [
    {
     "name": "stdout",
     "output_type": "stream",
     "text": [
      "[0.99370477 0.98877128 0.99833804 0.99981731 0.99927386 0.99985743\n",
      " 0.99996055 0.99999343 0.99999764 0.99999922 0.99999987 0.9999988\n",
      " 0.99999945 0.99999981 0.99999996 0.99999999 1.         1.\n",
      " 1.         1.        ]\n"
     ]
    }
   ],
   "source": [
    "acf11, qstats11, pvals11 = st.acf(monthly1, nlags=m, qstat=True)\n",
    "print(pvals11)"
   ]
  },
  {
   "cell_type": "code",
   "execution_count": 138,
   "id": "loved-reducing",
   "metadata": {},
   "outputs": [
    {
     "name": "stdout",
     "output_type": "stream",
     "text": [
      "[0.9603548  0.99700855 0.99922624 0.99993798 0.99999551 0.99999967\n",
      " 0.99999993 0.9999999  0.99999999 1.         1.         1.\n",
      " 1.         1.         1.         1.         1.         1.\n",
      " 1.         1.        ]\n"
     ]
    }
   ],
   "source": [
    "acf22, qstats22, pvals22 = st.acf(monthly2, nlags=m, qstat=True)\n",
    "print(pvals22)"
   ]
  },
  {
   "cell_type": "markdown",
   "id": "greatest-jacob",
   "metadata": {},
   "source": [
    "The results are extremely different for monthly data. The Q-stat is much lower than the Q critical value required to reject the null at 95% confidence, and the p values for each time period are very large, suggesting no autocorrelation in the monthly data."
   ]
  },
  {
   "cell_type": "code",
   "execution_count": null,
   "id": "natural-glory",
   "metadata": {},
   "outputs": [],
   "source": []
  }
 ],
 "metadata": {
  "kernelspec": {
   "display_name": "Python 3",
   "language": "python",
   "name": "python3"
  },
  "language_info": {
   "codemirror_mode": {
    "name": "ipython",
    "version": 3
   },
   "file_extension": ".py",
   "mimetype": "text/x-python",
   "name": "python",
   "nbconvert_exporter": "python",
   "pygments_lexer": "ipython3",
   "version": "3.8.8"
  },
  "toc": {
   "base_numbering": 1,
   "nav_menu": {},
   "number_sections": false,
   "sideBar": true,
   "skip_h1_title": false,
   "title_cell": "Table of Contents",
   "title_sidebar": "Contents",
   "toc_cell": false,
   "toc_position": {},
   "toc_section_display": true,
   "toc_window_display": false
  }
 },
 "nbformat": 4,
 "nbformat_minor": 5
}
